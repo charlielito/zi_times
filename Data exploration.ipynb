{
 "cells": [
  {
   "cell_type": "code",
   "execution_count": 22,
   "metadata": {},
   "outputs": [],
   "source": [
    "from __future__ import absolute_import\n",
    "from __future__ import division\n",
    "from __future__ import print_function\n",
    "\n",
    "%matplotlib inline\n",
    "\n",
    "import pandas as pd\n",
    "import os\n",
    "import numpy as np\n",
    "\n",
    "import geopy.distance\n",
    "\n",
    "import matplotlib.pyplot as plt\n",
    "\n",
    "import datetime as dt\n",
    "\n",
    "from sklearn.model_selection import train_test_split\n",
    "from sklearn.preprocessing import StandardScaler\n",
    "\n",
    "from sklearn.metrics import mean_squared_error\n",
    "\n",
    "from sklearn.svm import LinearSVR"
   ]
  },
  {
   "cell_type": "code",
   "execution_count": 2,
   "metadata": {},
   "outputs": [],
   "source": [
    "train_file = \"train.csv\"\n",
    "folder = \"data\""
   ]
  },
  {
   "cell_type": "code",
   "execution_count": 3,
   "metadata": {},
   "outputs": [
    {
     "data": {
      "text/plain": [
       "['trip_id',\n",
       " 'vendor_id',\n",
       " 'pickup_datetime',\n",
       " 'passenger_count',\n",
       " 'pickup_longitude',\n",
       " 'pickup_latitude',\n",
       " 'dropoff_longitude',\n",
       " 'dropoff_latitude',\n",
       " 'trip_duration']"
      ]
     },
     "execution_count": 3,
     "metadata": {},
     "output_type": "execute_result"
    }
   ],
   "source": [
    "CSV_COLUMN_NAMES = pd.read_csv(os.path.join(folder,train_file), nrows=1).columns.tolist()\n",
    "CSV_COLUMN_NAMES"
   ]
  },
  {
   "cell_type": "code",
   "execution_count": 35,
   "metadata": {},
   "outputs": [
    {
     "name": "stdout",
     "output_type": "stream",
     "text": [
      "Dataset size: 1021050\n"
     ]
    },
    {
     "data": {
      "text/html": [
       "<div>\n",
       "<style scoped>\n",
       "    .dataframe tbody tr th:only-of-type {\n",
       "        vertical-align: middle;\n",
       "    }\n",
       "\n",
       "    .dataframe tbody tr th {\n",
       "        vertical-align: top;\n",
       "    }\n",
       "\n",
       "    .dataframe thead th {\n",
       "        text-align: right;\n",
       "    }\n",
       "</style>\n",
       "<table border=\"1\" class=\"dataframe\">\n",
       "  <thead>\n",
       "    <tr style=\"text-align: right;\">\n",
       "      <th></th>\n",
       "      <th>trip_id</th>\n",
       "      <th>vendor_id</th>\n",
       "      <th>pickup_datetime</th>\n",
       "      <th>passenger_count</th>\n",
       "      <th>pickup_longitude</th>\n",
       "      <th>pickup_latitude</th>\n",
       "      <th>dropoff_longitude</th>\n",
       "      <th>dropoff_latitude</th>\n",
       "      <th>trip_duration</th>\n",
       "    </tr>\n",
       "  </thead>\n",
       "  <tbody>\n",
       "    <tr>\n",
       "      <th>0</th>\n",
       "      <td>0</td>\n",
       "      <td>2</td>\n",
       "      <td>2016-06-08 07:36:19</td>\n",
       "      <td>1</td>\n",
       "      <td>-73.985611</td>\n",
       "      <td>40.735943</td>\n",
       "      <td>-73.980331</td>\n",
       "      <td>40.760468</td>\n",
       "      <td>1040</td>\n",
       "    </tr>\n",
       "    <tr>\n",
       "      <th>1</th>\n",
       "      <td>1</td>\n",
       "      <td>2</td>\n",
       "      <td>2016-04-03 12:58:11</td>\n",
       "      <td>1</td>\n",
       "      <td>-73.978394</td>\n",
       "      <td>40.764351</td>\n",
       "      <td>-73.991623</td>\n",
       "      <td>40.749859</td>\n",
       "      <td>827</td>\n",
       "    </tr>\n",
       "    <tr>\n",
       "      <th>2</th>\n",
       "      <td>2</td>\n",
       "      <td>2</td>\n",
       "      <td>2016-06-05 02:49:13</td>\n",
       "      <td>5</td>\n",
       "      <td>-73.989059</td>\n",
       "      <td>40.744389</td>\n",
       "      <td>-73.973381</td>\n",
       "      <td>40.748692</td>\n",
       "      <td>614</td>\n",
       "    </tr>\n",
       "    <tr>\n",
       "      <th>3</th>\n",
       "      <td>3</td>\n",
       "      <td>2</td>\n",
       "      <td>2016-05-05 17:18:27</td>\n",
       "      <td>2</td>\n",
       "      <td>-73.990326</td>\n",
       "      <td>40.731136</td>\n",
       "      <td>-73.991264</td>\n",
       "      <td>40.748917</td>\n",
       "      <td>867</td>\n",
       "    </tr>\n",
       "    <tr>\n",
       "      <th>4</th>\n",
       "      <td>4</td>\n",
       "      <td>1</td>\n",
       "      <td>2016-05-12 17:43:38</td>\n",
       "      <td>4</td>\n",
       "      <td>-73.789497</td>\n",
       "      <td>40.646675</td>\n",
       "      <td>-73.987137</td>\n",
       "      <td>40.759232</td>\n",
       "      <td>4967</td>\n",
       "    </tr>\n",
       "  </tbody>\n",
       "</table>\n",
       "</div>"
      ],
      "text/plain": [
       "   trip_id  vendor_id      pickup_datetime  passenger_count  pickup_longitude  \\\n",
       "0        0          2  2016-06-08 07:36:19                1        -73.985611   \n",
       "1        1          2  2016-04-03 12:58:11                1        -73.978394   \n",
       "2        2          2  2016-06-05 02:49:13                5        -73.989059   \n",
       "3        3          2  2016-05-05 17:18:27                2        -73.990326   \n",
       "4        4          1  2016-05-12 17:43:38                4        -73.789497   \n",
       "\n",
       "   pickup_latitude  dropoff_longitude  dropoff_latitude  trip_duration  \n",
       "0        40.735943         -73.980331         40.760468           1040  \n",
       "1        40.764351         -73.991623         40.749859            827  \n",
       "2        40.744389         -73.973381         40.748692            614  \n",
       "3        40.731136         -73.991264         40.748917            867  \n",
       "4        40.646675         -73.987137         40.759232           4967  "
      ]
     },
     "execution_count": 35,
     "metadata": {},
     "output_type": "execute_result"
    }
   ],
   "source": [
    "train = pd.read_csv(os.path.join(folder,train_file), names=CSV_COLUMN_NAMES, header=0)\n",
    "print(\"Dataset size: {}\".format(len(train)))\n",
    "train.head()"
   ]
  },
  {
   "cell_type": "code",
   "execution_count": 37,
   "metadata": {},
   "outputs": [],
   "source": [
    "def calculate_distance(row):\n",
    "    point1 = row[\"pickup_latitude\"], row[\"pickup_longitude\"]\n",
    "    point2 = row[\"dropoff_latitude\"], row[\"dropoff_longitude\"]\n",
    "    return geopy.distance.geodesic(point1, point2).km\n",
    "\n",
    "def convert_datetime(s):\n",
    "    if type(s)==str:\n",
    "        return dt.datetime.strptime(s, '%Y-%m-%d %H:%M:%S')\n",
    "    else:\n",
    "        return s\n",
    "    \n",
    "def get_hour(d):\n",
    "    return d.hour\n",
    "\n",
    "def get_weekday(d):\n",
    "    weekday = d.isoweekday()\n",
    "    return weekday\n",
    "\n",
    "def rmsle(y_test, y_pred) : \n",
    "    assert len(y_test) == len(y_pred)\n",
    "    return np.sqrt(np.mean((np.log(1+y_pred) - np.log(1+y_test))**2))"
   ]
  },
  {
   "cell_type": "code",
   "execution_count": 38,
   "metadata": {},
   "outputs": [
    {
     "data": {
      "text/plain": [
       "0           2.759702\n",
       "1           1.959062\n",
       "2           1.407727\n",
       "3           1.976073\n",
       "4          20.861805\n",
       "5           0.626073\n",
       "6           2.627121\n",
       "7           0.723020\n",
       "8           6.384137\n",
       "9           7.800689\n",
       "10          4.158932\n",
       "11          0.883571\n",
       "12         20.235383\n",
       "13          2.747699\n",
       "14          3.044248\n",
       "15          0.632372\n",
       "16         19.898278\n",
       "17          1.795630\n",
       "18          2.294242\n",
       "19          5.590279\n",
       "20          2.012373\n",
       "21         23.930219\n",
       "22          2.916434\n",
       "23          2.825364\n",
       "24          6.121695\n",
       "25          2.519019\n",
       "26          3.925650\n",
       "27          0.490680\n",
       "28          0.791235\n",
       "29          1.864247\n",
       "             ...    \n",
       "1021020     0.692479\n",
       "1021021     1.758949\n",
       "1021022     1.475293\n",
       "1021023     0.446398\n",
       "1021024     2.655666\n",
       "1021025     4.191848\n",
       "1021026     2.106855\n",
       "1021027     5.597601\n",
       "1021028     1.877766\n",
       "1021029    20.581314\n",
       "1021030     1.386543\n",
       "1021031     2.245993\n",
       "1021032     1.717319\n",
       "1021033     3.104974\n",
       "1021034     0.688568\n",
       "1021035     1.905991\n",
       "1021036     1.953083\n",
       "1021037    13.701895\n",
       "1021038     1.007091\n",
       "1021039    10.929121\n",
       "1021040     1.873652\n",
       "1021041    16.338584\n",
       "1021042     0.652912\n",
       "1021043     2.196435\n",
       "1021044     2.259608\n",
       "1021045     1.035855\n",
       "1021046     0.569702\n",
       "1021047     1.571890\n",
       "1021048     1.152432\n",
       "1021049     0.840508\n",
       "Length: 1021050, dtype: float64"
      ]
     },
     "execution_count": 38,
     "metadata": {},
     "output_type": "execute_result"
    }
   ],
   "source": [
    "distances = train.apply(lambda row: calculate_distance(row),axis=1)\n",
    "distances"
   ]
  },
  {
   "cell_type": "code",
   "execution_count": 39,
   "metadata": {},
   "outputs": [
    {
     "data": {
      "text/html": [
       "<div>\n",
       "<style scoped>\n",
       "    .dataframe tbody tr th:only-of-type {\n",
       "        vertical-align: middle;\n",
       "    }\n",
       "\n",
       "    .dataframe tbody tr th {\n",
       "        vertical-align: top;\n",
       "    }\n",
       "\n",
       "    .dataframe thead th {\n",
       "        text-align: right;\n",
       "    }\n",
       "</style>\n",
       "<table border=\"1\" class=\"dataframe\">\n",
       "  <thead>\n",
       "    <tr style=\"text-align: right;\">\n",
       "      <th></th>\n",
       "      <th>trip_id</th>\n",
       "      <th>vendor_id</th>\n",
       "      <th>pickup_datetime</th>\n",
       "      <th>passenger_count</th>\n",
       "      <th>pickup_longitude</th>\n",
       "      <th>pickup_latitude</th>\n",
       "      <th>dropoff_longitude</th>\n",
       "      <th>dropoff_latitude</th>\n",
       "      <th>trip_duration</th>\n",
       "      <th>distance</th>\n",
       "    </tr>\n",
       "  </thead>\n",
       "  <tbody>\n",
       "    <tr>\n",
       "      <th>0</th>\n",
       "      <td>0</td>\n",
       "      <td>2</td>\n",
       "      <td>2016-06-08 07:36:19</td>\n",
       "      <td>1</td>\n",
       "      <td>-73.985611</td>\n",
       "      <td>40.735943</td>\n",
       "      <td>-73.980331</td>\n",
       "      <td>40.760468</td>\n",
       "      <td>1040</td>\n",
       "      <td>2.759702</td>\n",
       "    </tr>\n",
       "    <tr>\n",
       "      <th>1</th>\n",
       "      <td>1</td>\n",
       "      <td>2</td>\n",
       "      <td>2016-04-03 12:58:11</td>\n",
       "      <td>1</td>\n",
       "      <td>-73.978394</td>\n",
       "      <td>40.764351</td>\n",
       "      <td>-73.991623</td>\n",
       "      <td>40.749859</td>\n",
       "      <td>827</td>\n",
       "      <td>1.959062</td>\n",
       "    </tr>\n",
       "    <tr>\n",
       "      <th>2</th>\n",
       "      <td>2</td>\n",
       "      <td>2</td>\n",
       "      <td>2016-06-05 02:49:13</td>\n",
       "      <td>5</td>\n",
       "      <td>-73.989059</td>\n",
       "      <td>40.744389</td>\n",
       "      <td>-73.973381</td>\n",
       "      <td>40.748692</td>\n",
       "      <td>614</td>\n",
       "      <td>1.407727</td>\n",
       "    </tr>\n",
       "    <tr>\n",
       "      <th>3</th>\n",
       "      <td>3</td>\n",
       "      <td>2</td>\n",
       "      <td>2016-05-05 17:18:27</td>\n",
       "      <td>2</td>\n",
       "      <td>-73.990326</td>\n",
       "      <td>40.731136</td>\n",
       "      <td>-73.991264</td>\n",
       "      <td>40.748917</td>\n",
       "      <td>867</td>\n",
       "      <td>1.976073</td>\n",
       "    </tr>\n",
       "    <tr>\n",
       "      <th>4</th>\n",
       "      <td>4</td>\n",
       "      <td>1</td>\n",
       "      <td>2016-05-12 17:43:38</td>\n",
       "      <td>4</td>\n",
       "      <td>-73.789497</td>\n",
       "      <td>40.646675</td>\n",
       "      <td>-73.987137</td>\n",
       "      <td>40.759232</td>\n",
       "      <td>4967</td>\n",
       "      <td>20.861805</td>\n",
       "    </tr>\n",
       "  </tbody>\n",
       "</table>\n",
       "</div>"
      ],
      "text/plain": [
       "   trip_id  vendor_id      pickup_datetime  passenger_count  pickup_longitude  \\\n",
       "0        0          2  2016-06-08 07:36:19                1        -73.985611   \n",
       "1        1          2  2016-04-03 12:58:11                1        -73.978394   \n",
       "2        2          2  2016-06-05 02:49:13                5        -73.989059   \n",
       "3        3          2  2016-05-05 17:18:27                2        -73.990326   \n",
       "4        4          1  2016-05-12 17:43:38                4        -73.789497   \n",
       "\n",
       "   pickup_latitude  dropoff_longitude  dropoff_latitude  trip_duration  \\\n",
       "0        40.735943         -73.980331         40.760468           1040   \n",
       "1        40.764351         -73.991623         40.749859            827   \n",
       "2        40.744389         -73.973381         40.748692            614   \n",
       "3        40.731136         -73.991264         40.748917            867   \n",
       "4        40.646675         -73.987137         40.759232           4967   \n",
       "\n",
       "    distance  \n",
       "0   2.759702  \n",
       "1   1.959062  \n",
       "2   1.407727  \n",
       "3   1.976073  \n",
       "4  20.861805  "
      ]
     },
     "execution_count": 39,
     "metadata": {},
     "output_type": "execute_result"
    }
   ],
   "source": [
    "train[\"distance\"] = distances\n",
    "train.head()"
   ]
  },
  {
   "cell_type": "code",
   "execution_count": 40,
   "metadata": {},
   "outputs": [],
   "source": [
    "# Convert to daytime objects\n",
    "train.pickup_datetime = train.pickup_datetime.apply(convert_datetime)"
   ]
  },
  {
   "cell_type": "code",
   "execution_count": 41,
   "metadata": {},
   "outputs": [
    {
     "data": {
      "text/html": [
       "<div>\n",
       "<style scoped>\n",
       "    .dataframe tbody tr th:only-of-type {\n",
       "        vertical-align: middle;\n",
       "    }\n",
       "\n",
       "    .dataframe tbody tr th {\n",
       "        vertical-align: top;\n",
       "    }\n",
       "\n",
       "    .dataframe thead th {\n",
       "        text-align: right;\n",
       "    }\n",
       "</style>\n",
       "<table border=\"1\" class=\"dataframe\">\n",
       "  <thead>\n",
       "    <tr style=\"text-align: right;\">\n",
       "      <th></th>\n",
       "      <th>trip_id</th>\n",
       "      <th>vendor_id</th>\n",
       "      <th>pickup_datetime</th>\n",
       "      <th>passenger_count</th>\n",
       "      <th>pickup_longitude</th>\n",
       "      <th>pickup_latitude</th>\n",
       "      <th>dropoff_longitude</th>\n",
       "      <th>dropoff_latitude</th>\n",
       "      <th>trip_duration</th>\n",
       "      <th>distance</th>\n",
       "      <th>hour</th>\n",
       "      <th>day</th>\n",
       "    </tr>\n",
       "  </thead>\n",
       "  <tbody>\n",
       "    <tr>\n",
       "      <th>0</th>\n",
       "      <td>0</td>\n",
       "      <td>2</td>\n",
       "      <td>2016-06-08 07:36:19</td>\n",
       "      <td>1</td>\n",
       "      <td>-73.985611</td>\n",
       "      <td>40.735943</td>\n",
       "      <td>-73.980331</td>\n",
       "      <td>40.760468</td>\n",
       "      <td>1040</td>\n",
       "      <td>2.759702</td>\n",
       "      <td>7</td>\n",
       "      <td>3</td>\n",
       "    </tr>\n",
       "    <tr>\n",
       "      <th>1</th>\n",
       "      <td>1</td>\n",
       "      <td>2</td>\n",
       "      <td>2016-04-03 12:58:11</td>\n",
       "      <td>1</td>\n",
       "      <td>-73.978394</td>\n",
       "      <td>40.764351</td>\n",
       "      <td>-73.991623</td>\n",
       "      <td>40.749859</td>\n",
       "      <td>827</td>\n",
       "      <td>1.959062</td>\n",
       "      <td>12</td>\n",
       "      <td>7</td>\n",
       "    </tr>\n",
       "    <tr>\n",
       "      <th>2</th>\n",
       "      <td>2</td>\n",
       "      <td>2</td>\n",
       "      <td>2016-06-05 02:49:13</td>\n",
       "      <td>5</td>\n",
       "      <td>-73.989059</td>\n",
       "      <td>40.744389</td>\n",
       "      <td>-73.973381</td>\n",
       "      <td>40.748692</td>\n",
       "      <td>614</td>\n",
       "      <td>1.407727</td>\n",
       "      <td>2</td>\n",
       "      <td>7</td>\n",
       "    </tr>\n",
       "    <tr>\n",
       "      <th>3</th>\n",
       "      <td>3</td>\n",
       "      <td>2</td>\n",
       "      <td>2016-05-05 17:18:27</td>\n",
       "      <td>2</td>\n",
       "      <td>-73.990326</td>\n",
       "      <td>40.731136</td>\n",
       "      <td>-73.991264</td>\n",
       "      <td>40.748917</td>\n",
       "      <td>867</td>\n",
       "      <td>1.976073</td>\n",
       "      <td>17</td>\n",
       "      <td>4</td>\n",
       "    </tr>\n",
       "    <tr>\n",
       "      <th>4</th>\n",
       "      <td>4</td>\n",
       "      <td>1</td>\n",
       "      <td>2016-05-12 17:43:38</td>\n",
       "      <td>4</td>\n",
       "      <td>-73.789497</td>\n",
       "      <td>40.646675</td>\n",
       "      <td>-73.987137</td>\n",
       "      <td>40.759232</td>\n",
       "      <td>4967</td>\n",
       "      <td>20.861805</td>\n",
       "      <td>17</td>\n",
       "      <td>4</td>\n",
       "    </tr>\n",
       "  </tbody>\n",
       "</table>\n",
       "</div>"
      ],
      "text/plain": [
       "   trip_id  vendor_id     pickup_datetime  passenger_count  pickup_longitude  \\\n",
       "0        0          2 2016-06-08 07:36:19                1        -73.985611   \n",
       "1        1          2 2016-04-03 12:58:11                1        -73.978394   \n",
       "2        2          2 2016-06-05 02:49:13                5        -73.989059   \n",
       "3        3          2 2016-05-05 17:18:27                2        -73.990326   \n",
       "4        4          1 2016-05-12 17:43:38                4        -73.789497   \n",
       "\n",
       "   pickup_latitude  dropoff_longitude  dropoff_latitude  trip_duration  \\\n",
       "0        40.735943         -73.980331         40.760468           1040   \n",
       "1        40.764351         -73.991623         40.749859            827   \n",
       "2        40.744389         -73.973381         40.748692            614   \n",
       "3        40.731136         -73.991264         40.748917            867   \n",
       "4        40.646675         -73.987137         40.759232           4967   \n",
       "\n",
       "    distance  hour  day  \n",
       "0   2.759702     7    3  \n",
       "1   1.959062    12    7  \n",
       "2   1.407727     2    7  \n",
       "3   1.976073    17    4  \n",
       "4  20.861805    17    4  "
      ]
     },
     "execution_count": 41,
     "metadata": {},
     "output_type": "execute_result"
    }
   ],
   "source": [
    "train['hour'] = train.pickup_datetime.apply(get_hour)\n",
    "train['day'] = train.pickup_datetime.apply(get_weekday)\n",
    "train.head()"
   ]
  },
  {
   "cell_type": "code",
   "execution_count": 42,
   "metadata": {},
   "outputs": [
    {
     "data": {
      "image/png": "[encoded data removed]",
      "text/plain": [
       "<Figure size 432x288 with 1 Axes>"
      ]
     },
     "metadata": {
      "needs_background": "light"
     },
     "output_type": "display_data"
    }
   ],
   "source": [
    "plt.plot(train.distance, train.trip_duration, 'bo')\n",
    "plt.show()"
   ]
  },
  {
   "cell_type": "code",
   "execution_count": 43,
   "metadata": {},
   "outputs": [
    {
     "data": {
      "text/html": [
       "<div>\n",
       "<style scoped>\n",
       "    .dataframe tbody tr th:only-of-type {\n",
       "        vertical-align: middle;\n",
       "    }\n",
       "\n",
       "    .dataframe tbody tr th {\n",
       "        vertical-align: top;\n",
       "    }\n",
       "\n",
       "    .dataframe thead th {\n",
       "        text-align: right;\n",
       "    }\n",
       "</style>\n",
       "<table border=\"1\" class=\"dataframe\">\n",
       "  <thead>\n",
       "    <tr style=\"text-align: right;\">\n",
       "      <th></th>\n",
       "      <th>trip_id</th>\n",
       "      <th>vendor_id</th>\n",
       "      <th>passenger_count</th>\n",
       "      <th>pickup_longitude</th>\n",
       "      <th>pickup_latitude</th>\n",
       "      <th>dropoff_longitude</th>\n",
       "      <th>dropoff_latitude</th>\n",
       "      <th>trip_duration</th>\n",
       "      <th>distance</th>\n",
       "      <th>hour</th>\n",
       "      <th>day</th>\n",
       "    </tr>\n",
       "  </thead>\n",
       "  <tbody>\n",
       "    <tr>\n",
       "      <th>count</th>\n",
       "      <td>1.021050e+06</td>\n",
       "      <td>1.021050e+06</td>\n",
       "      <td>1.021050e+06</td>\n",
       "      <td>1.021050e+06</td>\n",
       "      <td>1.021050e+06</td>\n",
       "      <td>1.021050e+06</td>\n",
       "      <td>1.021050e+06</td>\n",
       "      <td>1.021050e+06</td>\n",
       "      <td>1.021050e+06</td>\n",
       "      <td>1.021050e+06</td>\n",
       "      <td>1.021050e+06</td>\n",
       "    </tr>\n",
       "    <tr>\n",
       "      <th>mean</th>\n",
       "      <td>5.105245e+05</td>\n",
       "      <td>1.534886e+00</td>\n",
       "      <td>1.665350e+00</td>\n",
       "      <td>-7.397347e+01</td>\n",
       "      <td>4.075095e+01</td>\n",
       "      <td>-7.397342e+01</td>\n",
       "      <td>4.075183e+01</td>\n",
       "      <td>9.548453e+02</td>\n",
       "      <td>3.440443e+00</td>\n",
       "      <td>1.360508e+01</td>\n",
       "      <td>4.051880e+00</td>\n",
       "    </tr>\n",
       "    <tr>\n",
       "      <th>std</th>\n",
       "      <td>2.947519e+05</td>\n",
       "      <td>4.987818e-01</td>\n",
       "      <td>1.315701e+00</td>\n",
       "      <td>6.496505e-02</td>\n",
       "      <td>3.364037e-02</td>\n",
       "      <td>6.496216e-02</td>\n",
       "      <td>3.572189e-02</td>\n",
       "      <td>3.869341e+03</td>\n",
       "      <td>4.418618e+00</td>\n",
       "      <td>6.401190e+00</td>\n",
       "      <td>1.954664e+00</td>\n",
       "    </tr>\n",
       "    <tr>\n",
       "      <th>min</th>\n",
       "      <td>0.000000e+00</td>\n",
       "      <td>1.000000e+00</td>\n",
       "      <td>0.000000e+00</td>\n",
       "      <td>-1.219333e+02</td>\n",
       "      <td>3.435970e+01</td>\n",
       "      <td>-1.219333e+02</td>\n",
       "      <td>3.435970e+01</td>\n",
       "      <td>1.000000e+00</td>\n",
       "      <td>0.000000e+00</td>\n",
       "      <td>0.000000e+00</td>\n",
       "      <td>1.000000e+00</td>\n",
       "    </tr>\n",
       "    <tr>\n",
       "      <th>25%</th>\n",
       "      <td>2.552622e+05</td>\n",
       "      <td>1.000000e+00</td>\n",
       "      <td>1.000000e+00</td>\n",
       "      <td>-7.399185e+01</td>\n",
       "      <td>4.073738e+01</td>\n",
       "      <td>-7.399133e+01</td>\n",
       "      <td>4.073592e+01</td>\n",
       "      <td>3.970000e+02</td>\n",
       "      <td>1.232209e+00</td>\n",
       "      <td>9.000000e+00</td>\n",
       "      <td>2.000000e+00</td>\n",
       "    </tr>\n",
       "    <tr>\n",
       "      <th>50%</th>\n",
       "      <td>5.105245e+05</td>\n",
       "      <td>2.000000e+00</td>\n",
       "      <td>1.000000e+00</td>\n",
       "      <td>-7.398173e+01</td>\n",
       "      <td>4.075413e+01</td>\n",
       "      <td>-7.397977e+01</td>\n",
       "      <td>4.075455e+01</td>\n",
       "      <td>6.620000e+02</td>\n",
       "      <td>2.091459e+00</td>\n",
       "      <td>1.400000e+01</td>\n",
       "      <td>4.000000e+00</td>\n",
       "    </tr>\n",
       "    <tr>\n",
       "      <th>75%</th>\n",
       "      <td>7.657868e+05</td>\n",
       "      <td>2.000000e+00</td>\n",
       "      <td>2.000000e+00</td>\n",
       "      <td>-7.396736e+01</td>\n",
       "      <td>4.076838e+01</td>\n",
       "      <td>-7.396303e+01</td>\n",
       "      <td>4.076983e+01</td>\n",
       "      <td>1.074000e+03</td>\n",
       "      <td>3.871550e+00</td>\n",
       "      <td>1.900000e+01</td>\n",
       "      <td>6.000000e+00</td>\n",
       "    </tr>\n",
       "    <tr>\n",
       "      <th>max</th>\n",
       "      <td>1.021049e+06</td>\n",
       "      <td>2.000000e+00</td>\n",
       "      <td>7.000000e+00</td>\n",
       "      <td>-6.133553e+01</td>\n",
       "      <td>5.188108e+01</td>\n",
       "      <td>-6.133553e+01</td>\n",
       "      <td>4.392103e+01</td>\n",
       "      <td>2.227612e+06</td>\n",
       "      <td>1.240510e+03</td>\n",
       "      <td>2.300000e+01</td>\n",
       "      <td>7.000000e+00</td>\n",
       "    </tr>\n",
       "  </tbody>\n",
       "</table>\n",
       "</div>"
      ],
      "text/plain": [
       "            trip_id     vendor_id  passenger_count  pickup_longitude  \\\n",
       "count  1.021050e+06  1.021050e+06     1.021050e+06      1.021050e+06   \n",
       "mean   5.105245e+05  1.534886e+00     1.665350e+00     -7.397347e+01   \n",
       "std    2.947519e+05  4.987818e-01     1.315701e+00      6.496505e-02   \n",
       "min    0.000000e+00  1.000000e+00     0.000000e+00     -1.219333e+02   \n",
       "25%    2.552622e+05  1.000000e+00     1.000000e+00     -7.399185e+01   \n",
       "50%    5.105245e+05  2.000000e+00     1.000000e+00     -7.398173e+01   \n",
       "75%    7.657868e+05  2.000000e+00     2.000000e+00     -7.396736e+01   \n",
       "max    1.021049e+06  2.000000e+00     7.000000e+00     -6.133553e+01   \n",
       "\n",
       "       pickup_latitude  dropoff_longitude  dropoff_latitude  trip_duration  \\\n",
       "count     1.021050e+06       1.021050e+06      1.021050e+06   1.021050e+06   \n",
       "mean      4.075095e+01      -7.397342e+01      4.075183e+01   9.548453e+02   \n",
       "std       3.364037e-02       6.496216e-02      3.572189e-02   3.869341e+03   \n",
       "min       3.435970e+01      -1.219333e+02      3.435970e+01   1.000000e+00   \n",
       "25%       4.073738e+01      -7.399133e+01      4.073592e+01   3.970000e+02   \n",
       "50%       4.075413e+01      -7.397977e+01      4.075455e+01   6.620000e+02   \n",
       "75%       4.076838e+01      -7.396303e+01      4.076983e+01   1.074000e+03   \n",
       "max       5.188108e+01      -6.133553e+01      4.392103e+01   2.227612e+06   \n",
       "\n",
       "           distance          hour           day  \n",
       "count  1.021050e+06  1.021050e+06  1.021050e+06  \n",
       "mean   3.440443e+00  1.360508e+01  4.051880e+00  \n",
       "std    4.418618e+00  6.401190e+00  1.954664e+00  \n",
       "min    0.000000e+00  0.000000e+00  1.000000e+00  \n",
       "25%    1.232209e+00  9.000000e+00  2.000000e+00  \n",
       "50%    2.091459e+00  1.400000e+01  4.000000e+00  \n",
       "75%    3.871550e+00  1.900000e+01  6.000000e+00  \n",
       "max    1.240510e+03  2.300000e+01  7.000000e+00  "
      ]
     },
     "execution_count": 43,
     "metadata": {},
     "output_type": "execute_result"
    }
   ],
   "source": [
    "train.describe()"
   ]
  },
  {
   "cell_type": "code",
   "execution_count": 79,
   "metadata": {},
   "outputs": [],
   "source": [
    "# Data cleaning\n",
    "train_cleaned = train[(train['trip_duration']>=60) & (train['trip_duration']<=10800) & \\\n",
    "                        (train['distance']<50)].reset_index()"
   ]
  },
  {
   "cell_type": "code",
   "execution_count": 80,
   "metadata": {},
   "outputs": [],
   "source": [
    "train_x, train_y = train_cleaned, train_cleaned.pop('trip_duration')\n",
    "# training_features = [\"distance\",\"vendor_id\", \"passenger_count\", \"pickup_latitude\", \"pickup_longitude\", \"dropoff_latitude\", \"dropoff_longitude\"]\n",
    "training_features = [\"distance\", \"hour\", \"day\", \"passenger_count\"]\n",
    "train_x = train_x[training_features]"
   ]
  },
  {
   "cell_type": "code",
   "execution_count": 81,
   "metadata": {},
   "outputs": [],
   "source": [
    "# train_x.vendor_id.unique()"
   ]
  },
  {
   "cell_type": "code",
   "execution_count": 82,
   "metadata": {},
   "outputs": [],
   "source": [
    "# min(train_x.passenger_count)"
   ]
  },
  {
   "cell_type": "code",
   "execution_count": 83,
   "metadata": {},
   "outputs": [],
   "source": [
    "# min(train_y)"
   ]
  },
  {
   "cell_type": "code",
   "execution_count": 118,
   "metadata": {},
   "outputs": [],
   "source": [
    "X = train_x[[\"distance\", \"hour\", \"day\", \"passenger_count\"]].values\n",
    "y = train_y.values"
   ]
  },
  {
   "cell_type": "code",
   "execution_count": 119,
   "metadata": {},
   "outputs": [],
   "source": [
    " X_train, X_test, y_train, y_test = train_test_split(\n",
    "...     X, y, test_size=0.25, random_state=42)"
   ]
  },
  {
   "cell_type": "code",
   "execution_count": 120,
   "metadata": {},
   "outputs": [
    {
     "data": {
      "text/plain": [
       "(-0.878790993669556,\n",
       " 11.783134474333098,\n",
       " -2.1262886132749155,\n",
       " 1.4672430339748903)"
      ]
     },
     "execution_count": 120,
     "metadata": {},
     "output_type": "execute_result"
    }
   ],
   "source": [
    "scaler = StandardScaler()\n",
    "X_train = scaler.fit_transform(X_train)\n",
    "min(X_train[:,0]), max(X_train[:,0]), min(X_train[:,1]), max(X_train[:,1])"
   ]
  },
  {
   "cell_type": "code",
   "execution_count": 121,
   "metadata": {},
   "outputs": [
    {
     "data": {
      "text/plain": [
       "(-0.878790993669556,\n",
       " 11.792637678322743,\n",
       " -2.1262886132749155,\n",
       " 1.4672430339748903)"
      ]
     },
     "execution_count": 121,
     "metadata": {},
     "output_type": "execute_result"
    }
   ],
   "source": [
    "X_test = scaler.transform(X_test)\n",
    "min(X_test[:,0]), max(X_test[:,0]), min(X_test[:,1]), max(X_test[:,1])"
   ]
  },
  {
   "cell_type": "code",
   "execution_count": 88,
   "metadata": {},
   "outputs": [
    {
     "data": {
      "text/plain": [
       "(760172, 4)"
      ]
     },
     "execution_count": 88,
     "metadata": {},
     "output_type": "execute_result"
    }
   ],
   "source": [
    "X_train.shape"
   ]
  },
  {
   "cell_type": "code",
   "execution_count": 89,
   "metadata": {},
   "outputs": [],
   "source": [
    "y_train = y_train.astype(float) # make it float for svm regression"
   ]
  },
  {
   "cell_type": "code",
   "execution_count": 122,
   "metadata": {},
   "outputs": [
    {
     "data": {
      "text/plain": [
       "LinearSVR(C=10.0, dual=True, epsilon=0, fit_intercept=True,\n",
       "     intercept_scaling=1.0, loss='epsilon_insensitive', max_iter=1000,\n",
       "     random_state=None, tol=1e-06, verbose=0)"
      ]
     },
     "execution_count": 122,
     "metadata": {},
     "output_type": "execute_result"
    }
   ],
   "source": [
    "regressor_f = LinearSVR(C=10.0, epsilon=0, tol=1e-6)\n",
    "regressor_f.fit(X_train, y_train)"
   ]
  },
  {
   "cell_type": "code",
   "execution_count": 123,
   "metadata": {},
   "outputs": [
    {
     "name": "stdout",
     "output_type": "stream",
     "text": [
      "MSE: 184279.852706\n",
      "RMSLE: 0.468611088748\n"
     ]
    }
   ],
   "source": [
    "y_pred = regressor_f.predict(X_test)\n",
    "print(\"MSE: {}\".format(mean_squared_error(y_test, y_pred)))\n",
    "print(\"RMSLE: {}\".format(rmsle(y_test,y_pred)))"
   ]
  },
  {
   "cell_type": "code",
   "execution_count": 107,
   "metadata": {},
   "outputs": [],
   "source": [
    "C_array=[]\n",
    "train_score=[]\n",
    "test_score=[]\n",
    "\n",
    "train_score2=[]\n",
    "test_score2=[]\n",
    "\n",
    "for C in range(1,20,1):\n",
    "    regressor = LinearSVR(C=C, epsilon=0, tol=1e-6)\n",
    "    regressor.fit(X_train, y_train)\n",
    "    \n",
    "    y_pred_train = regressor.predict(X_train)\n",
    "    y_pred_test = regressor.predict(X_test)\n",
    "    \n",
    "    train_score.append(rmsle(y_train,y_pred_train))\n",
    "    test_score.append(rmsle(y_test,y_pred_test))\n",
    "    \n",
    "    train_score2.append(mean_squared_error(y_train,y_pred_train))\n",
    "    test_score2.append(mean_squared_error(y_test,y_pred_test))\n",
    "#     mse = mean_squared_error(y_test, y_pred)\n",
    "\n",
    "    C_array.append(C)\n",
    "    \n"
   ]
  },
  {
   "cell_type": "code",
   "execution_count": 108,
   "metadata": {},
   "outputs": [
    {
     "data": {
      "image/png": "[encoded data removed]",
      "text/plain": [
       "<Figure size 432x288 with 1 Axes>"
      ]
     },
     "metadata": {
      "needs_background": "light"
     },
     "output_type": "display_data"
    }
   ],
   "source": [
    "plt.plot(C_array, train_score, label='training error')\n",
    "plt.plot(C_array, test_score, label='testing error')\n",
    "plt.title('Training and Testing Errors vs C param')\n",
    "plt.ylabel('RMSE')\n",
    "plt.xlabel('n_neighbors')\n",
    "plt.legend()\n",
    "plt.show()"
   ]
  },
  {
   "cell_type": "code",
   "execution_count": 109,
   "metadata": {},
   "outputs": [
    {
     "data": {
      "image/png": "[encoded data removed]",
      "text/plain": [
       "<Figure size 432x288 with 1 Axes>"
      ]
     },
     "metadata": {
      "needs_background": "light"
     },
     "output_type": "display_data"
    }
   ],
   "source": [
    "plt.plot(C_array, train_score2, label='training error')\n",
    "plt.plot(C_array, test_score2, label='testing error')\n",
    "plt.title('Training and Testing Errors vs C param')\n",
    "plt.ylabel('RMSE')\n",
    "plt.xlabel('n_neighbors')\n",
    "plt.legend()\n",
    "plt.show()"
   ]
  },
  {
   "cell_type": "markdown",
   "metadata": {},
   "source": [
    "# Completing test for sample submission"
   ]
  },
  {
   "cell_type": "code",
   "execution_count": 115,
   "metadata": {},
   "outputs": [
    {
     "name": "stdout",
     "output_type": "stream",
     "text": [
      "Dataset size: 437594\n"
     ]
    },
    {
     "data": {
      "text/html": [
       "<div>\n",
       "<style scoped>\n",
       "    .dataframe tbody tr th:only-of-type {\n",
       "        vertical-align: middle;\n",
       "    }\n",
       "\n",
       "    .dataframe tbody tr th {\n",
       "        vertical-align: top;\n",
       "    }\n",
       "\n",
       "    .dataframe thead th {\n",
       "        text-align: right;\n",
       "    }\n",
       "</style>\n",
       "<table border=\"1\" class=\"dataframe\">\n",
       "  <thead>\n",
       "    <tr style=\"text-align: right;\">\n",
       "      <th></th>\n",
       "      <th>trip_id</th>\n",
       "      <th>vendor_id</th>\n",
       "      <th>pickup_datetime</th>\n",
       "      <th>passenger_count</th>\n",
       "      <th>pickup_longitude</th>\n",
       "      <th>pickup_latitude</th>\n",
       "      <th>dropoff_longitude</th>\n",
       "      <th>dropoff_latitude</th>\n",
       "      <th>trip_duration</th>\n",
       "    </tr>\n",
       "  </thead>\n",
       "  <tbody>\n",
       "    <tr>\n",
       "      <th>0</th>\n",
       "      <td>1021050</td>\n",
       "      <td>2</td>\n",
       "      <td>2016-01-20 14:51:05</td>\n",
       "      <td>1</td>\n",
       "      <td>-73.991989</td>\n",
       "      <td>40.750343</td>\n",
       "      <td>-73.975288</td>\n",
       "      <td>40.755985</td>\n",
       "      <td>NaN</td>\n",
       "    </tr>\n",
       "    <tr>\n",
       "      <th>1</th>\n",
       "      <td>1021051</td>\n",
       "      <td>1</td>\n",
       "      <td>2016-02-26 00:10:54</td>\n",
       "      <td>1</td>\n",
       "      <td>-74.011528</td>\n",
       "      <td>40.704926</td>\n",
       "      <td>-73.962616</td>\n",
       "      <td>40.773197</td>\n",
       "      <td>NaN</td>\n",
       "    </tr>\n",
       "    <tr>\n",
       "      <th>2</th>\n",
       "      <td>1021052</td>\n",
       "      <td>1</td>\n",
       "      <td>2016-04-02 04:48:07</td>\n",
       "      <td>1</td>\n",
       "      <td>-73.975548</td>\n",
       "      <td>40.745270</td>\n",
       "      <td>-73.975632</td>\n",
       "      <td>40.745251</td>\n",
       "      <td>NaN</td>\n",
       "    </tr>\n",
       "    <tr>\n",
       "      <th>3</th>\n",
       "      <td>1021053</td>\n",
       "      <td>2</td>\n",
       "      <td>2016-02-17 15:30:03</td>\n",
       "      <td>5</td>\n",
       "      <td>-73.965820</td>\n",
       "      <td>40.771286</td>\n",
       "      <td>-73.972435</td>\n",
       "      <td>40.765022</td>\n",
       "      <td>NaN</td>\n",
       "    </tr>\n",
       "    <tr>\n",
       "      <th>4</th>\n",
       "      <td>1021054</td>\n",
       "      <td>1</td>\n",
       "      <td>2016-05-28 17:19:29</td>\n",
       "      <td>1</td>\n",
       "      <td>-73.863266</td>\n",
       "      <td>40.769890</td>\n",
       "      <td>-74.010513</td>\n",
       "      <td>40.718025</td>\n",
       "      <td>NaN</td>\n",
       "    </tr>\n",
       "  </tbody>\n",
       "</table>\n",
       "</div>"
      ],
      "text/plain": [
       "   trip_id  vendor_id      pickup_datetime  passenger_count  pickup_longitude  \\\n",
       "0  1021050          2  2016-01-20 14:51:05                1        -73.991989   \n",
       "1  1021051          1  2016-02-26 00:10:54                1        -74.011528   \n",
       "2  1021052          1  2016-04-02 04:48:07                1        -73.975548   \n",
       "3  1021053          2  2016-02-17 15:30:03                5        -73.965820   \n",
       "4  1021054          1  2016-05-28 17:19:29                1        -73.863266   \n",
       "\n",
       "   pickup_latitude  dropoff_longitude  dropoff_latitude  trip_duration  \n",
       "0        40.750343         -73.975288         40.755985            NaN  \n",
       "1        40.704926         -73.962616         40.773197            NaN  \n",
       "2        40.745270         -73.975632         40.745251            NaN  \n",
       "3        40.771286         -73.972435         40.765022            NaN  \n",
       "4        40.769890         -74.010513         40.718025            NaN  "
      ]
     },
     "execution_count": 115,
     "metadata": {},
     "output_type": "execute_result"
    }
   ],
   "source": [
    "test = pd.read_csv(os.path.join(folder,\"test.csv\"), names=CSV_COLUMN_NAMES, header=0)\n",
    "print(\"Dataset size: {}\".format(len(test)))\n",
    "test.head()"
   ]
  },
  {
   "cell_type": "code",
   "execution_count": 116,
   "metadata": {},
   "outputs": [],
   "source": [
    "test[\"distance\"] = test.apply(lambda row: calculate_distance(row),axis=1)\n",
    "test.pickup_datetime = test.pickup_datetime.apply(convert_datetime)\n",
    "test['hour'] = test.pickup_datetime.apply(get_hour)\n",
    "test['day'] = test.pickup_datetime.apply(get_weekday)"
   ]
  },
  {
   "cell_type": "code",
   "execution_count": null,
   "metadata": {},
   "outputs": [],
   "source": [
    "features = [\"trip_id\",\"distance\", \"hour\", \"day\", \"passenger_count\"]\n",
    "test = test[training_features]"
   ]
  },
  {
   "cell_type": "code",
   "execution_count": 117,
   "metadata": {},
   "outputs": [
    {
     "data": {
      "text/html": [
       "<div>\n",
       "<style scoped>\n",
       "    .dataframe tbody tr th:only-of-type {\n",
       "        vertical-align: middle;\n",
       "    }\n",
       "\n",
       "    .dataframe tbody tr th {\n",
       "        vertical-align: top;\n",
       "    }\n",
       "\n",
       "    .dataframe thead th {\n",
       "        text-align: right;\n",
       "    }\n",
       "</style>\n",
       "<table border=\"1\" class=\"dataframe\">\n",
       "  <thead>\n",
       "    <tr style=\"text-align: right;\">\n",
       "      <th></th>\n",
       "      <th>trip_id</th>\n",
       "      <th>vendor_id</th>\n",
       "      <th>pickup_datetime</th>\n",
       "      <th>passenger_count</th>\n",
       "      <th>pickup_longitude</th>\n",
       "      <th>pickup_latitude</th>\n",
       "      <th>dropoff_longitude</th>\n",
       "      <th>dropoff_latitude</th>\n",
       "      <th>trip_duration</th>\n",
       "      <th>distance</th>\n",
       "      <th>hour</th>\n",
       "      <th>day</th>\n",
       "    </tr>\n",
       "  </thead>\n",
       "  <tbody>\n",
       "    <tr>\n",
       "      <th>0</th>\n",
       "      <td>1021050</td>\n",
       "      <td>2</td>\n",
       "      <td>2016-01-20 14:51:05</td>\n",
       "      <td>1</td>\n",
       "      <td>-73.991989</td>\n",
       "      <td>40.750343</td>\n",
       "      <td>-73.975288</td>\n",
       "      <td>40.755985</td>\n",
       "      <td>NaN</td>\n",
       "      <td>1.543252</td>\n",
       "      <td>14</td>\n",
       "      <td>3</td>\n",
       "    </tr>\n",
       "    <tr>\n",
       "      <th>1</th>\n",
       "      <td>1021051</td>\n",
       "      <td>1</td>\n",
       "      <td>2016-02-26 00:10:54</td>\n",
       "      <td>1</td>\n",
       "      <td>-74.011528</td>\n",
       "      <td>40.704926</td>\n",
       "      <td>-73.962616</td>\n",
       "      <td>40.773197</td>\n",
       "      <td>NaN</td>\n",
       "      <td>8.634090</td>\n",
       "      <td>0</td>\n",
       "      <td>5</td>\n",
       "    </tr>\n",
       "    <tr>\n",
       "      <th>2</th>\n",
       "      <td>1021052</td>\n",
       "      <td>1</td>\n",
       "      <td>2016-04-02 04:48:07</td>\n",
       "      <td>1</td>\n",
       "      <td>-73.975548</td>\n",
       "      <td>40.745270</td>\n",
       "      <td>-73.975632</td>\n",
       "      <td>40.745251</td>\n",
       "      <td>NaN</td>\n",
       "      <td>0.007398</td>\n",
       "      <td>4</td>\n",
       "      <td>6</td>\n",
       "    </tr>\n",
       "    <tr>\n",
       "      <th>3</th>\n",
       "      <td>1021053</td>\n",
       "      <td>2</td>\n",
       "      <td>2016-02-17 15:30:03</td>\n",
       "      <td>5</td>\n",
       "      <td>-73.965820</td>\n",
       "      <td>40.771286</td>\n",
       "      <td>-73.972435</td>\n",
       "      <td>40.765022</td>\n",
       "      <td>NaN</td>\n",
       "      <td>0.892037</td>\n",
       "      <td>15</td>\n",
       "      <td>3</td>\n",
       "    </tr>\n",
       "    <tr>\n",
       "      <th>4</th>\n",
       "      <td>1021054</td>\n",
       "      <td>1</td>\n",
       "      <td>2016-05-28 17:19:29</td>\n",
       "      <td>1</td>\n",
       "      <td>-73.863266</td>\n",
       "      <td>40.769890</td>\n",
       "      <td>-74.010513</td>\n",
       "      <td>40.718025</td>\n",
       "      <td>NaN</td>\n",
       "      <td>13.705414</td>\n",
       "      <td>17</td>\n",
       "      <td>6</td>\n",
       "    </tr>\n",
       "  </tbody>\n",
       "</table>\n",
       "</div>"
      ],
      "text/plain": [
       "   trip_id  vendor_id     pickup_datetime  passenger_count  pickup_longitude  \\\n",
       "0  1021050          2 2016-01-20 14:51:05                1        -73.991989   \n",
       "1  1021051          1 2016-02-26 00:10:54                1        -74.011528   \n",
       "2  1021052          1 2016-04-02 04:48:07                1        -73.975548   \n",
       "3  1021053          2 2016-02-17 15:30:03                5        -73.965820   \n",
       "4  1021054          1 2016-05-28 17:19:29                1        -73.863266   \n",
       "\n",
       "   pickup_latitude  dropoff_longitude  dropoff_latitude  trip_duration  \\\n",
       "0        40.750343         -73.975288         40.755985            NaN   \n",
       "1        40.704926         -73.962616         40.773197            NaN   \n",
       "2        40.745270         -73.975632         40.745251            NaN   \n",
       "3        40.771286         -73.972435         40.765022            NaN   \n",
       "4        40.769890         -74.010513         40.718025            NaN   \n",
       "\n",
       "    distance  hour  day  \n",
       "0   1.543252    14    3  \n",
       "1   8.634090     0    5  \n",
       "2   0.007398     4    6  \n",
       "3   0.892037    15    3  \n",
       "4  13.705414    17    6  "
      ]
     },
     "execution_count": 117,
     "metadata": {},
     "output_type": "execute_result"
    }
   ],
   "source": [
    "test.head()"
   ]
  },
  {
   "cell_type": "code",
   "execution_count": 126,
   "metadata": {},
   "outputs": [
    {
     "data": {
      "text/plain": [
       "array([320.44520194])"
      ]
     },
     "execution_count": 126,
     "metadata": {},
     "output_type": "execute_result"
    }
   ],
   "source": [
    "max(test[[\"distance\"]].values)"
   ]
  },
  {
   "cell_type": "code",
   "execution_count": 127,
   "metadata": {},
   "outputs": [
    {
     "data": {
      "text/plain": [
       "(-0.878790993669556, 80.7923759869086, -2.1262886132749155, 1.4672430339748903)"
      ]
     },
     "execution_count": 127,
     "metadata": {},
     "output_type": "execute_result"
    }
   ],
   "source": [
    "X = test[[\"distance\", \"hour\", \"day\", \"passenger_count\"]].values\n",
    "X_test = scaler.transform(X)\n",
    "min(X_test[:,0]), max(X_test[:,0]), min(X_test[:,1]), max(X_test[:,1])"
   ]
  },
  {
   "cell_type": "code",
   "execution_count": 134,
   "metadata": {},
   "outputs": [
    {
     "data": {
      "text/plain": [
       "array([ 508, 1428,  225, ..., 1362,  377, 1921])"
      ]
     },
     "execution_count": 134,
     "metadata": {},
     "output_type": "execute_result"
    }
   ],
   "source": [
    "y_pred = regressor_f.predict(X_test)\n",
    "y_pred.astype(int)"
   ]
  },
  {
   "cell_type": "code",
   "execution_count": 135,
   "metadata": {},
   "outputs": [
    {
     "data": {
      "text/html": [
       "<div>\n",
       "<style scoped>\n",
       "    .dataframe tbody tr th:only-of-type {\n",
       "        vertical-align: middle;\n",
       "    }\n",
       "\n",
       "    .dataframe tbody tr th {\n",
       "        vertical-align: top;\n",
       "    }\n",
       "\n",
       "    .dataframe thead th {\n",
       "        text-align: right;\n",
       "    }\n",
       "</style>\n",
       "<table border=\"1\" class=\"dataframe\">\n",
       "  <thead>\n",
       "    <tr style=\"text-align: right;\">\n",
       "      <th></th>\n",
       "      <th>trip_id</th>\n",
       "      <th>vendor_id</th>\n",
       "      <th>pickup_datetime</th>\n",
       "      <th>passenger_count</th>\n",
       "      <th>pickup_longitude</th>\n",
       "      <th>pickup_latitude</th>\n",
       "      <th>dropoff_longitude</th>\n",
       "      <th>dropoff_latitude</th>\n",
       "      <th>trip_duration</th>\n",
       "      <th>distance</th>\n",
       "      <th>hour</th>\n",
       "      <th>day</th>\n",
       "    </tr>\n",
       "  </thead>\n",
       "  <tbody>\n",
       "    <tr>\n",
       "      <th>0</th>\n",
       "      <td>1021050</td>\n",
       "      <td>2</td>\n",
       "      <td>2016-01-20 14:51:05</td>\n",
       "      <td>1</td>\n",
       "      <td>-73.991989</td>\n",
       "      <td>40.750343</td>\n",
       "      <td>-73.975288</td>\n",
       "      <td>40.755985</td>\n",
       "      <td>508</td>\n",
       "      <td>1.543252</td>\n",
       "      <td>14</td>\n",
       "      <td>3</td>\n",
       "    </tr>\n",
       "    <tr>\n",
       "      <th>1</th>\n",
       "      <td>1021051</td>\n",
       "      <td>1</td>\n",
       "      <td>2016-02-26 00:10:54</td>\n",
       "      <td>1</td>\n",
       "      <td>-74.011528</td>\n",
       "      <td>40.704926</td>\n",
       "      <td>-73.962616</td>\n",
       "      <td>40.773197</td>\n",
       "      <td>1428</td>\n",
       "      <td>8.634090</td>\n",
       "      <td>0</td>\n",
       "      <td>5</td>\n",
       "    </tr>\n",
       "    <tr>\n",
       "      <th>2</th>\n",
       "      <td>1021052</td>\n",
       "      <td>1</td>\n",
       "      <td>2016-04-02 04:48:07</td>\n",
       "      <td>1</td>\n",
       "      <td>-73.975548</td>\n",
       "      <td>40.745270</td>\n",
       "      <td>-73.975632</td>\n",
       "      <td>40.745251</td>\n",
       "      <td>225</td>\n",
       "      <td>0.007398</td>\n",
       "      <td>4</td>\n",
       "      <td>6</td>\n",
       "    </tr>\n",
       "    <tr>\n",
       "      <th>3</th>\n",
       "      <td>1021053</td>\n",
       "      <td>2</td>\n",
       "      <td>2016-02-17 15:30:03</td>\n",
       "      <td>5</td>\n",
       "      <td>-73.965820</td>\n",
       "      <td>40.771286</td>\n",
       "      <td>-73.972435</td>\n",
       "      <td>40.765022</td>\n",
       "      <td>433</td>\n",
       "      <td>0.892037</td>\n",
       "      <td>15</td>\n",
       "      <td>3</td>\n",
       "    </tr>\n",
       "    <tr>\n",
       "      <th>4</th>\n",
       "      <td>1021054</td>\n",
       "      <td>1</td>\n",
       "      <td>2016-05-28 17:19:29</td>\n",
       "      <td>1</td>\n",
       "      <td>-73.863266</td>\n",
       "      <td>40.769890</td>\n",
       "      <td>-74.010513</td>\n",
       "      <td>40.718025</td>\n",
       "      <td>2205</td>\n",
       "      <td>13.705414</td>\n",
       "      <td>17</td>\n",
       "      <td>6</td>\n",
       "    </tr>\n",
       "  </tbody>\n",
       "</table>\n",
       "</div>"
      ],
      "text/plain": [
       "   trip_id  vendor_id     pickup_datetime  passenger_count  pickup_longitude  \\\n",
       "0  1021050          2 2016-01-20 14:51:05                1        -73.991989   \n",
       "1  1021051          1 2016-02-26 00:10:54                1        -74.011528   \n",
       "2  1021052          1 2016-04-02 04:48:07                1        -73.975548   \n",
       "3  1021053          2 2016-02-17 15:30:03                5        -73.965820   \n",
       "4  1021054          1 2016-05-28 17:19:29                1        -73.863266   \n",
       "\n",
       "   pickup_latitude  dropoff_longitude  dropoff_latitude  trip_duration  \\\n",
       "0        40.750343         -73.975288         40.755985            508   \n",
       "1        40.704926         -73.962616         40.773197           1428   \n",
       "2        40.745270         -73.975632         40.745251            225   \n",
       "3        40.771286         -73.972435         40.765022            433   \n",
       "4        40.769890         -74.010513         40.718025           2205   \n",
       "\n",
       "    distance  hour  day  \n",
       "0   1.543252    14    3  \n",
       "1   8.634090     0    5  \n",
       "2   0.007398     4    6  \n",
       "3   0.892037    15    3  \n",
       "4  13.705414    17    6  "
      ]
     },
     "execution_count": 135,
     "metadata": {},
     "output_type": "execute_result"
    }
   ],
   "source": [
    "test[\"trip_duration\"] = y_pred.astype(int)\n",
    "test.head()"
   ]
  },
  {
   "cell_type": "code",
   "execution_count": 136,
   "metadata": {},
   "outputs": [
    {
     "data": {
      "text/html": [
       "<div>\n",
       "<style scoped>\n",
       "    .dataframe tbody tr th:only-of-type {\n",
       "        vertical-align: middle;\n",
       "    }\n",
       "\n",
       "    .dataframe tbody tr th {\n",
       "        vertical-align: top;\n",
       "    }\n",
       "\n",
       "    .dataframe thead th {\n",
       "        text-align: right;\n",
       "    }\n",
       "</style>\n",
       "<table border=\"1\" class=\"dataframe\">\n",
       "  <thead>\n",
       "    <tr style=\"text-align: right;\">\n",
       "      <th></th>\n",
       "      <th>trip_id</th>\n",
       "      <th>trip_duration</th>\n",
       "    </tr>\n",
       "  </thead>\n",
       "  <tbody>\n",
       "    <tr>\n",
       "      <th>0</th>\n",
       "      <td>1021050</td>\n",
       "      <td>508</td>\n",
       "    </tr>\n",
       "    <tr>\n",
       "      <th>1</th>\n",
       "      <td>1021051</td>\n",
       "      <td>1428</td>\n",
       "    </tr>\n",
       "    <tr>\n",
       "      <th>2</th>\n",
       "      <td>1021052</td>\n",
       "      <td>225</td>\n",
       "    </tr>\n",
       "    <tr>\n",
       "      <th>3</th>\n",
       "      <td>1021053</td>\n",
       "      <td>433</td>\n",
       "    </tr>\n",
       "    <tr>\n",
       "      <th>4</th>\n",
       "      <td>1021054</td>\n",
       "      <td>2205</td>\n",
       "    </tr>\n",
       "  </tbody>\n",
       "</table>\n",
       "</div>"
      ],
      "text/plain": [
       "   trip_id  trip_duration\n",
       "0  1021050            508\n",
       "1  1021051           1428\n",
       "2  1021052            225\n",
       "3  1021053            433\n",
       "4  1021054           2205"
      ]
     },
     "execution_count": 136,
     "metadata": {},
     "output_type": "execute_result"
    }
   ],
   "source": [
    "submit = test[[\"trip_id\", \"trip_duration\"]]\n",
    "submit.head()"
   ]
  },
  {
   "cell_type": "code",
   "execution_count": 137,
   "metadata": {},
   "outputs": [],
   "source": [
    "submit.to_csv(os.path.join(folder,\"submission.csv\"), index=False)"
   ]
  },
  {
   "cell_type": "code",
   "execution_count": null,
   "metadata": {},
   "outputs": [],
   "source": []
  }
 ],
 "metadata": {
  "kernelspec": {
   "display_name": "Python 2",
   "language": "python",
   "name": "python2"
  },
  "language_info": {
   "codemirror_mode": {
    "name": "ipython",
    "version": 2
   },
   "file_extension": ".py",
   "mimetype": "text/x-python",
   "name": "python",
   "nbconvert_exporter": "python",
   "pygments_lexer": "ipython2",
   "version": "2.7.12"
  }
 },
 "nbformat": 4,
 "nbformat_minor": 2
}
